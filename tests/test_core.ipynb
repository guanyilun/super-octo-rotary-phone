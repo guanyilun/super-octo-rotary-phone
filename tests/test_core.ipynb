{
 "cells": [
  {
   "cell_type": "code",
   "execution_count": 1,
   "metadata": {},
   "outputs": [],
   "source": [
    "using PyCall"
   ]
  },
  {
   "cell_type": "code",
   "execution_count": 2,
   "metadata": {},
   "outputs": [
    {
     "data": {
      "text/plain": [
       "unfold (generic function with 1 method)"
      ]
     },
     "execution_count": 2,
     "metadata": {},
     "output_type": "execute_result"
    }
   ],
   "source": [
    "include(\"../src/core.jl\")"
   ]
  },
  {
   "cell_type": "code",
   "execution_count": 3,
   "metadata": {},
   "outputs": [],
   "source": [
    "# setup multithreading for matrix multiplication\n",
    "BLAS.set_num_threads(64)"
   ]
  },
  {
   "cell_type": "code",
   "execution_count": 4,
   "metadata": {},
   "outputs": [
    {
     "name": "stderr",
     "output_type": "stream",
     "text": [
      "Unable to init server: Could not connect: Connection refused\n",
      "Unable to init server: Could not connect: Connection refused\n",
      "\n",
      "(.:261319): Gdk-CRITICAL **: 18:49:08.037: gdk_cursor_new_for_display: assertion 'GDK_IS_DISPLAY (display)' failed\n"
     ]
    }
   ],
   "source": [
    "@pyimport fgbuster"
   ]
  },
  {
   "cell_type": "code",
   "execution_count": 5,
   "metadata": {},
   "outputs": [],
   "source": [
    "sky = fgbuster.observation_helpers.get_sky(nside=512, tag=\"c1d0s0\")\n",
    "instrument = fgbuster.observation_helpers.get_instrument(\"LiteBIRD\");\n",
    "obs = fgbuster.observation_helpers.get_observation(instrument, sky, noise=true);"
   ]
  },
  {
   "cell_type": "code",
   "execution_count": 6,
   "metadata": {},
   "outputs": [],
   "source": [
    "comps = [cmb, sync, dust]\n",
    "freqs = instrument.frequency.values\n",
    "Nmat  = hcat(instrument.depth_i.values,instrument.depth_p.values,instrument.depth_p.values);"
   ]
  },
  {
   "cell_type": "code",
   "execution_count": 7,
   "metadata": {},
   "outputs": [
    {
     "data": {
      "text/plain": [
       " * Status: success\n",
       "\n",
       " * Candidate solution\n",
       "    Final objective value:     -2.464522e+12\n",
       "\n",
       " * Found with\n",
       "    Algorithm:     BFGS\n",
       "\n",
       " * Convergence measures\n",
       "    |x - x'|               = 1.84e-05 ≰ 0.0e+00\n",
       "    |x - x'|/|x'|          = 9.17e-07 ≰ 0.0e+00\n",
       "    |f(x) - f(x')|         = 0.00e+00 ≤ 0.0e+00\n",
       "    |f(x) - f(x')|/|f(x')| = 0.00e+00 ≤ 0.0e+00\n",
       "    |g(x)|                 = 8.06e+01 ≰ 1.0e-08\n",
       "\n",
       " * Work counters\n",
       "    Seconds run:   33  (vs limit Inf)\n",
       "    Iterations:    8\n",
       "    f(x) calls:    41\n",
       "    ∇f(x) calls:   41\n"
      ]
     },
     "execution_count": 7,
     "metadata": {},
     "output_type": "execute_result"
    }
   ],
   "source": [
    "res = compsep(comps, freqs, Nmat.^-2, obs, x₀=[-3.,1.54,20.])"
   ]
  },
  {
   "cell_type": "code",
   "execution_count": 8,
   "metadata": {},
   "outputs": [
    {
     "data": {
      "text/plain": [
       "3-element Vector{Float64}:\n",
       " -3.0011207647881735\n",
       "  1.5401014146791467\n",
       " 20.038178744868937"
      ]
     },
     "execution_count": 8,
     "metadata": {},
     "output_type": "execute_result"
    }
   ],
   "source": [
    "Optim.minimizer(res)"
   ]
  },
  {
   "cell_type": "code",
   "execution_count": null,
   "metadata": {},
   "outputs": [],
   "source": [
    "# in comparison, fgbuster takes 10 minutes to run, which is 20 times slower than this simple script."
   ]
  },
  {
   "cell_type": "code",
   "execution_count": null,
   "metadata": {},
   "outputs": [],
   "source": []
  }
 ],
 "metadata": {
  "kernelspec": {
   "display_name": "Julia 1.7.0",
   "language": "julia",
   "name": "julia-1.7"
  },
  "language_info": {
   "file_extension": ".jl",
   "mimetype": "application/julia",
   "name": "julia",
   "version": "1.7.0"
  }
 },
 "nbformat": 4,
 "nbformat_minor": 4
}
